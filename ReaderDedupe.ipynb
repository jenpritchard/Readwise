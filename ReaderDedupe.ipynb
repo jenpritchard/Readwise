{
 "cells": [
  {
   "cell_type": "markdown",
   "id": "bff31356-b721-4d13-bf8f-4d9d8727e67f",
   "metadata": {},
   "source": [
    "# Description\n",
    "The purpose of this script is to crawl your Reader account for any potential duplicate articles, as defined by an article's title.  Because there is the possibility that multiple articles have the same title but are *not* duplicates, you can create a note on the article called \"not a dupe\" and it will be excluded. For my purposes, further limiting the match by author etc resulted in too many false negatives (mainly when articles from Medium, or or articles from certain feeds), but future enhancements could be made to suit your personal use cases.\n",
    "\n",
    "# Note\n",
    "This does not automatically delete duplicates, because\n",
    "1. The Reader API does not currently allow that, and\n",
    "2. Even if it did, you'd want to have control over what *you* consider the right copy to delete\n",
    "\n",
    "# Prerequisites\n",
    "- Your own API key for your Reader account. API key is obtained at #https://readwise.io/reader_api\n",
    "- A file named .env in the same directory, containing \"API_KEY=yourkeyhere\""
   ]
  },
  {
   "cell_type": "code",
   "execution_count": null,
   "id": "4eb47162-fe8d-4adf-832f-86c277660cd1",
   "metadata": {},
   "outputs": [],
   "source": [
    "# Set the Reader api key from the .env file in the same directory. \n",
    "\n",
    "from dotenv import dotenv_values\n",
    "\n",
    "config = dotenv_values(\".env\")\n",
    "token = config['API_KEY']\n"
   ]
  },
  {
   "cell_type": "code",
   "execution_count": null,
   "id": "8134d98d-392f-47bc-92d3-db803653478c",
   "metadata": {},
   "outputs": [],
   "source": [
    "import datetime\n",
    "import requests\n",
    "import time\n",
    "\n",
    "# In VS, it may be helpful to surpress warnings\n",
    "#requests.packages.urllib3.disable_warnings()\n",
    "\n",
    "\n",
    "def fetch_reader_document_list_api():\n",
    "    full_data = []\n",
    "    next_page_cursor = None\n",
    "    print(\"Beginning export api request...\")\n",
    "    print('--------------------------------------------------')\n",
    "    while True:\n",
    "        params = {}\n",
    "        if next_page_cursor:\n",
    "            params['pageCursor'] = next_page_cursor\n",
    "        print(\"Making export api request with params \" + str(params) + \"...\")\n",
    "        response = requests.get(\n",
    "            url=\"https://readwise.io/api/v3/list/\",\n",
    "            params=params,\n",
    "            headers={\"Authorization\": f\"Token {token}\"}, verify=None #False\n",
    "        )\n",
    "        \n",
    "        \n",
    "        # According to the official Reader documentation, the rate limiting's default base rate is 20 requests per minute.\n",
    "        # To account for this when dealing with a large library, this script can wait until it's clear to keep going\n",
    "        \n",
    "        if response.status_code == 429:\n",
    "            print(\"Sleeping for: \",response.headers[\"Retry-After\"])\n",
    "            time.sleep(int(response.headers[\"Retry-After\"]))\n",
    "        \n",
    "        else:\n",
    "            full_data.extend(response.json().get('results'))\n",
    "            next_page_cursor = response.json().get('nextPageCursor')\n",
    "            \n",
    "            if not next_page_cursor:\n",
    "                break\n",
    "    print(\"import complete\") \n",
    "    return full_data\n",
    "\n",
    "\n",
    "\n",
    "allData = fetch_reader_document_list_api()      \n",
    "\n",
    "\n"
   ]
  },
  {
   "cell_type": "code",
   "execution_count": null,
   "id": "10b958a9-c252-4496-8437-27d3ec675b46",
   "metadata": {},
   "outputs": [],
   "source": [
    "\n",
    "# since the API returns all things (not just articles, but highlights, etc as well), this will return a list of just the articles\n",
    "def getArticles(fulllist):\n",
    "    allArticles=[]\n",
    "\n",
    "    for listitem in fulllist:\n",
    "        if listitem['title'] != None:\n",
    "            listitem['lowercasetitle']=listitem['title'].lower()\n",
    "            allArticles.append(listitem)\n",
    "            \n",
    "    return allArticles\n",
    "\n",
    "allArticles=getArticles(allData)\n"
   ]
  },
  {
   "cell_type": "code",
   "execution_count": null,
   "id": "4c5209d2-e21b-4c29-b8fa-633b8c4a27e2",
   "metadata": {},
   "outputs": [],
   "source": [
    "\n",
    "#assumes that the list input will have been cleaned up by getArticles()\n",
    "#returns the list of titles that are duplicates to search for\n",
    "def getDupeTitles(allArticles):\n",
    "    distinct = []\n",
    "    dupes = []\n",
    "\n",
    "    for article in allArticles:\n",
    "        title=article['lowercasetitle']\n",
    "        if title in distinct:\n",
    "            if title not in dupes and article['notes'] != \"not a dupe\" and article['title']!=\"\":\n",
    "                dupes.append(title)\n",
    "        else:\n",
    "            distinct.append(title)\n",
    "    dupes.sort()\n",
    "    return dupes\n",
    "\n",
    "dupeTitles=getDupeTitles(allArticles)\n",
    "\n",
    "\n"
   ]
  },
  {
   "cell_type": "code",
   "execution_count": null,
   "id": "cf79147f-5390-4b89-af4a-c36534890c04",
   "metadata": {},
   "outputs": [],
   "source": [
    "\n",
    "\n",
    "#print the results in an easy to read format. \n",
    "def printDetails(dupeTitles,allArticles):\n",
    "\n",
    "    if not dupeTitles:\n",
    "        print('no dupes found!')\n",
    "    else:\n",
    "        for dupeTitle in dupeTitles:\n",
    "            for article in allArticles:\n",
    "               if dupeTitle == article['lowercasetitle']:\n",
    "                 print('location: ',article['location'],' ,url: ',article['url'],' ,title: \"',article['title'],'\"',sep='')\n",
    "            print('--------------------------------------------------')\n",
    "\n",
    "\n",
    "printDetails(dupeTitles,allArticles)\n"
   ]
  }
 ],
 "metadata": {
  "kernelspec": {
   "display_name": "Python 3 (ipykernel)",
   "language": "python",
   "name": "python3"
  },
  "language_info": {
   "codemirror_mode": {
    "name": "ipython",
    "version": 3
   },
   "file_extension": ".py",
   "mimetype": "text/x-python",
   "name": "python",
   "nbconvert_exporter": "python",
   "pygments_lexer": "ipython3",
   "version": "3.12.1"
  }
 },
 "nbformat": 4,
 "nbformat_minor": 5
}
